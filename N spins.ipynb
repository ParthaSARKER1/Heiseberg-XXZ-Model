{
 "cells": [
  {
   "cell_type": "code",
   "execution_count": 1,
   "metadata": {},
   "outputs": [],
   "source": [
    "import numpy as np\n",
    "import scipy\n",
    "import scipy.linalg\n",
    "import matplotlib.pyplot as plt\n",
    "\n",
    "from more_itertools import distinct_permutations"
   ]
  },
  {
   "cell_type": "code",
   "execution_count": 2,
   "metadata": {},
   "outputs": [],
   "source": [
    "def sum_digits(n):\n",
    "    s = 0\n",
    "    while n:\n",
    "        s += n % 10\n",
    "        n //= 10\n",
    "    return s"
   ]
  },
  {
   "cell_type": "code",
   "execution_count": 3,
   "metadata": {},
   "outputs": [],
   "source": [
    "#First algorithm to find out basis vector for a particular state\n",
    "\n",
    "def basis_sector_1(l : int, N: int):\n",
    "\n",
    "    out = []\n",
    "    Basis = np.linspace(0,2**N-1,num = 2**N ,dtype='int')\n",
    "\n",
    "    for num in Basis:\n",
    "        if sum_digits(int(bin(num)[2:])) == l:\n",
    "            #print('True')\n",
    "            out.append(num)\n",
    "    out = np.array(out)\n",
    "    return out"
   ]
  },
  {
   "cell_type": "code",
   "execution_count": 4,
   "metadata": {},
   "outputs": [
    {
     "data": {
      "text/plain": [
       "array([ 3,  5,  6,  9, 10, 12])"
      ]
     },
     "execution_count": 4,
     "metadata": {},
     "output_type": "execute_result"
    }
   ],
   "source": [
    "basis_sector_1(2,4)"
   ]
  },
  {
   "cell_type": "code",
   "execution_count": 5,
   "metadata": {},
   "outputs": [],
   "source": [
    "#2nd algorithm \n",
    "\n",
    "def basis_sector_2(l : int, N:int):\n",
    "    out = []\n",
    "    init = [0]*(N-l)+[1]*l\n",
    "    \n",
    "    permutations = list(distinct_permutations(init))\n",
    "    for i in permutations:\n",
    "        out.append(int(''.join(map(str, i)),2)) #here 2 denotes the base of the number system\n",
    "\n",
    "        \n",
    "    out = np.array(out)\n",
    "    return out"
   ]
  },
  {
   "cell_type": "code",
   "execution_count": 2,
   "metadata": {},
   "outputs": [
    {
     "ename": "NameError",
     "evalue": "name 'np' is not defined",
     "output_type": "error",
     "traceback": [
      "\u001b[1;31m---------------------------------------------------------------------------\u001b[0m",
      "\u001b[1;31mNameError\u001b[0m                                 Traceback (most recent call last)",
      "\u001b[1;32m<ipython-input-2-b092bc8cc55b>\u001b[0m in \u001b[0;36m<module>\u001b[1;34m\u001b[0m\n\u001b[0;32m      1\u001b[0m \u001b[0mN\u001b[0m \u001b[1;33m=\u001b[0m \u001b[1;36m10\u001b[0m\u001b[1;33m\u001b[0m\u001b[1;33m\u001b[0m\u001b[0m\n\u001b[0;32m      2\u001b[0m \u001b[1;32mimport\u001b[0m \u001b[0mtime\u001b[0m\u001b[1;33m\u001b[0m\u001b[1;33m\u001b[0m\u001b[0m\n\u001b[1;32m----> 3\u001b[1;33m \u001b[0mT\u001b[0m \u001b[1;33m=\u001b[0m \u001b[0mnp\u001b[0m\u001b[1;33m.\u001b[0m\u001b[0mempty\u001b[0m\u001b[1;33m(\u001b[0m\u001b[0mN\u001b[0m\u001b[1;33m+\u001b[0m\u001b[1;36m1\u001b[0m\u001b[1;33m)\u001b[0m\u001b[1;33m\u001b[0m\u001b[1;33m\u001b[0m\u001b[0m\n\u001b[0m\u001b[0;32m      4\u001b[0m \u001b[0mnum\u001b[0m \u001b[1;33m=\u001b[0m \u001b[0mnp\u001b[0m\u001b[1;33m.\u001b[0m\u001b[0mlinspace\u001b[0m\u001b[1;33m(\u001b[0m\u001b[1;36m0\u001b[0m\u001b[1;33m,\u001b[0m\u001b[0mN\u001b[0m\u001b[1;33m,\u001b[0m\u001b[0mN\u001b[0m\u001b[1;33m+\u001b[0m\u001b[1;36m1\u001b[0m\u001b[1;33m)\u001b[0m\u001b[1;33m\u001b[0m\u001b[1;33m\u001b[0m\u001b[0m\n\u001b[0;32m      5\u001b[0m \u001b[0mprint\u001b[0m\u001b[1;33m(\u001b[0m\u001b[0mnum\u001b[0m\u001b[1;33m)\u001b[0m\u001b[1;33m\u001b[0m\u001b[1;33m\u001b[0m\u001b[0m\n",
      "\u001b[1;31mNameError\u001b[0m: name 'np' is not defined"
     ]
    }
   ],
   "source": [
    "N = 10\n",
    "import time\n",
    "T = np.empty(N+1)\n",
    "num = np.linspace(0,N,N+1)\n",
    "print(num)\n",
    "for l in range(N+1):\n",
    "    start = time.time()\n",
    "    basis_sector_1(l,N)\n",
    "    end = time.time()\n",
    "    T[l] = end-start\n",
    "\n",
    "N1 = 10\n",
    "T1 = np.empty(N1+1)\n",
    "num1 = np.linspace(0,N1,N1+1)\n",
    "print(num1)\n",
    "for l in range(N1+1):\n",
    "    start = time.time()\n",
    "    basis_sector_2(l,N1)\n",
    "    end = time.time()\n",
    "    T1[l] = end-start"
   ]
  },
  {
   "cell_type": "code",
   "execution_count": null,
   "metadata": {},
   "outputs": [
    {
     "data": {
      "text/plain": [
       "<matplotlib.legend.Legend at 0x2c4c80f05e0>"
      ]
     },
     "execution_count": 13,
     "metadata": {},
     "output_type": "execute_result"
    },
    {
     "data": {
      "image/png": "[encoded data removed]",
      "text/plain": [
       "<Figure size 432x288 with 1 Axes>"
      ]
     },
     "metadata": {
      "needs_background": "light"
     },
     "output_type": "display_data"
    }
   ],
   "source": [
    "fig, ax = plt.subplots()\n",
    "\n",
    "ax.scatter(num, T, s=15,label = '1st method')\n",
    "ax.scatter(num1, T1, s=15, label = '$2$nd method', marker='x' )\n",
    "plt.title(\"$10$ spins\")\n",
    "ax.set_xlabel(\"Number of up spins ($l$)\")\n",
    "ax.set_ylabel(\"Time\")\n",
    "\n",
    "ax.legend(loc='best', fontsize = 'medium')\n"
   ]
  },
  {
   "cell_type": "code",
   "execution_count": null,
   "metadata": {},
   "outputs": [
    {
     "name": "stdout",
     "output_type": "stream",
     "text": [
      "[ 0.  1.  2.  3.  4.  5.  6.  7.  8.  9. 10. 11. 12. 13. 14. 15. 16. 17.\n",
      " 18. 19. 20.]\n",
      "[ 0.  1.  2.  3.  4.  5.  6.  7.  8.  9. 10. 11. 12. 13. 14. 15. 16. 17.\n",
      " 18. 19. 20.]\n"
     ]
    }
   ],
   "source": [
    "N = 20\n",
    "import time\n",
    "T = np.empty(N+1)\n",
    "num = np.linspace(0,N,N+1)\n",
    "print(num)\n",
    "for l in range(N+1):\n",
    "    start = time.time()\n",
    "    basis_sector_1(l,N)\n",
    "    end = time.time()\n",
    "    T[l] = end-start\n",
    "\n",
    "N1 = 20\n",
    "T1 = np.empty(N1+1)\n",
    "num1 = np.linspace(0,N1,N1+1)\n",
    "print(num1)\n",
    "for l in range(N1+1):\n",
    "    start = time.time()\n",
    "    basis_sector_2(l,N1)\n",
    "    end = time.time()\n",
    "    T1[l] = end-start"
   ]
  },
  {
   "cell_type": "code",
   "execution_count": null,
   "metadata": {},
   "outputs": [
    {
     "data": {
      "text/plain": [
       "<matplotlib.legend.Legend at 0x2c4c8014d00>"
      ]
     },
     "execution_count": 10,
     "metadata": {},
     "output_type": "execute_result"
    },
    {
     "data": {
      "image/png": "[encoded data removed]",
      "text/plain": [
       "<Figure size 432x288 with 1 Axes>"
      ]
     },
     "metadata": {
      "needs_background": "light"
     },
     "output_type": "display_data"
    }
   ],
   "source": [
    "fig, ax = plt.subplots()\n",
    "\n",
    "ax.scatter(num, T, s=15,label = '1st method')\n",
    "ax.scatter(num1, T1, s=15, label = '$2$nd method')\n",
    "plt.title(\"$20$ spins\")\n",
    "ax.set_xlabel(\"Number of up spins ($l$)\")\n",
    "ax.set_ylabel(\"Time\")\n",
    "\n",
    "ax.legend(loc='best', fontsize = 'medium')"
   ]
  },
  {
   "attachments": {},
   "cell_type": "markdown",
   "metadata": {},
   "source": [
    "Generating the Hamiltonian for $N$ spins"
   ]
  },
  {
   "cell_type": "code",
   "execution_count": 6,
   "metadata": {},
   "outputs": [],
   "source": [
    "def flip(a:int, i:int, j: int ,N):\n",
    "    b = list(bin(a)[2:].zfill(N))\n",
    "    b[i] , b[j] = b[j] , b[i]\n",
    "    out = int(''.join(map(str, b)),2)\n",
    "\n",
    "    return out\n",
    "    "
   ]
  },
  {
   "cell_type": "code",
   "execution_count": 7,
   "metadata": {},
   "outputs": [],
   "source": [
    "#algorithm presented in Sandvik for the whole Hamiltonian \n",
    "\n",
    "def H(N:int , J , D):\n",
    "    out = np.zeros([2**N,2**N] ,dtype='complex_')\n",
    "    for a in range(2**N):\n",
    "        for i in range(N-1):\n",
    "            #j = np.mod(i+1,N) #periodic boundary conditions, also have to replace i's range to N from N-1\n",
    "            j = i+1 #closed boundary conditions\n",
    "            test = bin(a)[2:].zfill(N)\n",
    "            if test[i] == test[j]:\n",
    "                out[a,a] += J * D /4 #for the spins aligned in the same direction\n",
    "            else:\n",
    "                out[a,a] -= J * D /4 #for the spins aligned in opposite direction\n",
    "                b= flip(a,i,j,N)\n",
    "                out[a,b] = J/2\n",
    "    \n",
    "    return out"
   ]
  },
  {
   "cell_type": "code",
   "execution_count": 8,
   "metadata": {},
   "outputs": [
    {
     "data": {
      "text/plain": [
       "array([[ 0.25+0.j,  0.  +0.j,  0.  +0.j,  0.  +0.j],\n",
       "       [ 0.  +0.j, -0.25+0.j,  0.5 +0.j,  0.  +0.j],\n",
       "       [ 0.  +0.j,  0.5 +0.j, -0.25+0.j,  0.  +0.j],\n",
       "       [ 0.  +0.j,  0.  +0.j,  0.  +0.j,  0.25+0.j]])"
      ]
     },
     "execution_count": 8,
     "metadata": {},
     "output_type": "execute_result"
    }
   ],
   "source": [
    "H(2,1,1)"
   ]
  },
  {
   "cell_type": "code",
   "execution_count": 9,
   "metadata": {},
   "outputs": [],
   "source": [
    "#algorithm presented in Sandvik for the different sectors of the Hamiltonian \n",
    "\n",
    "def H_sec(N:int , l:int, J , D):\n",
    "    basis_set = basis_sector_2(l,N)\n",
    "    out = np.zeros([basis_set.size,basis_set.size] ,dtype='complex_') #presetting an empty matrix \n",
    "    #print(out)\n",
    "    for x,a in enumerate(basis_set):\n",
    "        for i in range(N-1):\n",
    "            #print(x)\n",
    "            #j = np.mod(i+1,N) #periodic boundary condition, also have to replace i's range to N from N-1\n",
    "            j = i+1 #closed boundary condition\n",
    "            test = bin(a)[2:].zfill(N)\n",
    "            if test[i] == test[j]:\n",
    "                out[x,x] += J * D /4 #for the spins aligned in the same direction\n",
    "            else:\n",
    "                out[x,x] -= J * D /4 #for the spins aligned in opposite direction\n",
    "                b= flip(a,i,j,N) #flipping the neighboring spins for \n",
    "                                #generating another basis from the basis set\n",
    "                \n",
    "                k = np.where(basis_set ==b) #finding out the index of the basis from the earlier\n",
    "                                            #operation of flipping neighboring spins\n",
    "                s = k[0][0]\n",
    "                out[x,s] = J/2\n",
    "    \n",
    "    return out"
   ]
  },
  {
   "cell_type": "code",
   "execution_count": 10,
   "metadata": {},
   "outputs": [
    {
     "data": {
      "text/plain": [
       "array([1, 2, 4, 8])"
      ]
     },
     "execution_count": 10,
     "metadata": {},
     "output_type": "execute_result"
    }
   ],
   "source": [
    "basis_sector_2(1,4)"
   ]
  },
  {
   "cell_type": "code",
   "execution_count": 11,
   "metadata": {},
   "outputs": [
    {
     "data": {
      "text/plain": [
       "array([[ 0.25+0.j,  0.5 +0.j,  0.  +0.j,  0.  +0.j],\n",
       "       [ 0.5 +0.j, -0.25+0.j,  0.5 +0.j,  0.  +0.j],\n",
       "       [ 0.  +0.j,  0.5 +0.j, -0.25+0.j,  0.5 +0.j],\n",
       "       [ 0.  +0.j,  0.  +0.j,  0.5 +0.j,  0.25+0.j]])"
      ]
     },
     "execution_count": 11,
     "metadata": {},
     "output_type": "execute_result"
    }
   ],
   "source": [
    "H_sec(4,1,1,1)"
   ]
  },
  {
   "cell_type": "code",
   "execution_count": 14,
   "metadata": {},
   "outputs": [
    {
     "ename": "MemoryError",
     "evalue": "Unable to allocate 8.81 GiB for an array with shape (24310, 24310) and data type complex128",
     "output_type": "error",
     "traceback": [
      "\u001b[1;31m---------------------------------------------------------------------------\u001b[0m",
      "\u001b[1;31mMemoryError\u001b[0m                               Traceback (most recent call last)",
      "\u001b[1;32m<ipython-input-14-820c629c4093>\u001b[0m in \u001b[0;36m<module>\u001b[1;34m\u001b[0m\n\u001b[1;32m----> 1\u001b[1;33m \u001b[0mH_sec\u001b[0m\u001b[1;33m(\u001b[0m\u001b[1;36m17\u001b[0m\u001b[1;33m,\u001b[0m\u001b[1;36m9\u001b[0m\u001b[1;33m,\u001b[0m\u001b[1;36m1\u001b[0m\u001b[1;33m,\u001b[0m\u001b[1;36m1\u001b[0m\u001b[1;33m)\u001b[0m\u001b[1;33m\u001b[0m\u001b[1;33m\u001b[0m\u001b[0m\n\u001b[0m",
      "\u001b[1;32m<ipython-input-9-4373a21b1e94>\u001b[0m in \u001b[0;36mH_sec\u001b[1;34m(N, l, J, D)\u001b[0m\n\u001b[0;32m      3\u001b[0m \u001b[1;32mdef\u001b[0m \u001b[0mH_sec\u001b[0m\u001b[1;33m(\u001b[0m\u001b[0mN\u001b[0m\u001b[1;33m:\u001b[0m\u001b[0mint\u001b[0m \u001b[1;33m,\u001b[0m \u001b[0ml\u001b[0m\u001b[1;33m:\u001b[0m\u001b[0mint\u001b[0m\u001b[1;33m,\u001b[0m \u001b[0mJ\u001b[0m \u001b[1;33m,\u001b[0m \u001b[0mD\u001b[0m\u001b[1;33m)\u001b[0m\u001b[1;33m:\u001b[0m\u001b[1;33m\u001b[0m\u001b[1;33m\u001b[0m\u001b[0m\n\u001b[0;32m      4\u001b[0m     \u001b[0mbasis_set\u001b[0m \u001b[1;33m=\u001b[0m \u001b[0mbasis_sector_2\u001b[0m\u001b[1;33m(\u001b[0m\u001b[0ml\u001b[0m\u001b[1;33m,\u001b[0m\u001b[0mN\u001b[0m\u001b[1;33m)\u001b[0m\u001b[1;33m\u001b[0m\u001b[1;33m\u001b[0m\u001b[0m\n\u001b[1;32m----> 5\u001b[1;33m     \u001b[0mout\u001b[0m \u001b[1;33m=\u001b[0m \u001b[0mnp\u001b[0m\u001b[1;33m.\u001b[0m\u001b[0mzeros\u001b[0m\u001b[1;33m(\u001b[0m\u001b[1;33m[\u001b[0m\u001b[0mbasis_set\u001b[0m\u001b[1;33m.\u001b[0m\u001b[0msize\u001b[0m\u001b[1;33m,\u001b[0m\u001b[0mbasis_set\u001b[0m\u001b[1;33m.\u001b[0m\u001b[0msize\u001b[0m\u001b[1;33m]\u001b[0m \u001b[1;33m,\u001b[0m\u001b[0mdtype\u001b[0m\u001b[1;33m=\u001b[0m\u001b[1;34m'complex_'\u001b[0m\u001b[1;33m)\u001b[0m \u001b[1;31m#presetting an empty matrix\u001b[0m\u001b[1;33m\u001b[0m\u001b[1;33m\u001b[0m\u001b[0m\n\u001b[0m\u001b[0;32m      6\u001b[0m     \u001b[1;31m#print(out)\u001b[0m\u001b[1;33m\u001b[0m\u001b[1;33m\u001b[0m\u001b[1;33m\u001b[0m\u001b[0m\n\u001b[0;32m      7\u001b[0m     \u001b[1;32mfor\u001b[0m \u001b[0mx\u001b[0m\u001b[1;33m,\u001b[0m\u001b[0ma\u001b[0m \u001b[1;32min\u001b[0m \u001b[0menumerate\u001b[0m\u001b[1;33m(\u001b[0m\u001b[0mbasis_set\u001b[0m\u001b[1;33m)\u001b[0m\u001b[1;33m:\u001b[0m\u001b[1;33m\u001b[0m\u001b[1;33m\u001b[0m\u001b[0m\n",
      "\u001b[1;31mMemoryError\u001b[0m: Unable to allocate 8.81 GiB for an array with shape (24310, 24310) and data type complex128"
     ]
    }
   ],
   "source": [
    "H_sec(17,9,1,1)"
   ]
  },
  {
   "cell_type": "code",
   "execution_count": null,
   "metadata": {},
   "outputs": [],
   "source": []
  }
 ],
 "metadata": {
  "kernelspec": {
   "display_name": "Python 3",
   "language": "python",
   "name": "python3"
  },
  "language_info": {
   "codemirror_mode": {
    "name": "ipython",
    "version": 3
   },
   "file_extension": ".py",
   "mimetype": "text/x-python",
   "name": "python",
   "nbconvert_exporter": "python",
   "pygments_lexer": "ipython3",
   "version": "3.9.5"
  },
  "orig_nbformat": 4,
  "vscode": {
   "interpreter": {
    "hash": "cf92aa13fedf815d5c8dd192b8d835913fde3e8bc926b2a0ad6cc74ef2ba3ca2"
   }
  }
 },
 "nbformat": 4,
 "nbformat_minor": 2
}
